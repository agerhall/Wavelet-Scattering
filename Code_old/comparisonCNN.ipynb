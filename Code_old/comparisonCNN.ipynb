{
 "cells": [
  {
   "cell_type": "code",
   "execution_count": null,
   "metadata": {
    "collapsed": true
   },
   "outputs": [],
   "source": [
    "import keras as K\n",
    "from keras.layers import Dense, Flatten,BatchNormalization,Input,Conv2D, MaxPooling2D\n",
    "from keras.models import Sequential, Model,load_model\n",
    "from keras.applications import ResNet50\n",
    "from keras import layers, models, optimizers\n",
    "import tensorflow as tf\n",
    "import tensorboard\n",
    "import numpy as np\n",
    "from matplotlib import pyplot as plt\n",
    "\n"
   ]
  }
 ],
 "metadata": {
  "kernelspec": {
   "display_name": "Python 3",
   "language": "python",
   "name": "python3"
  },
  "language_info": {
   "codemirror_mode": {
    "name": "ipython",
    "version": 3
   },
   "file_extension": ".py",
   "mimetype": "text/x-python",
   "name": "python",
   "nbconvert_exporter": "python",
   "pygments_lexer": "ipython3",
   "version": "3.6.7"
  }
 },
 "nbformat": 4,
 "nbformat_minor": 1
}
